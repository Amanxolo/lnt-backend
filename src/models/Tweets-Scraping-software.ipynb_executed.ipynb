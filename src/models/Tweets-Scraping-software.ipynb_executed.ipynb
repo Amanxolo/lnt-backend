{
 "cells": [
  {
   "cell_type": "code",
   "execution_count": 1,
   "id": "4b573b4b",
   "metadata": {
    "execution": {
     "iopub.execute_input": "2024-03-20T16:37:17.683704Z",
     "iopub.status.busy": "2024-03-20T16:37:17.682745Z",
     "iopub.status.idle": "2024-03-20T16:37:18.589417Z",
     "shell.execute_reply": "2024-03-20T16:37:18.586401Z"
    }
   },
   "outputs": [],
   "source": [
    "import asyncio\n",
    "from twscrape import API, gather\n",
    "from twscrape.logger import set_log_level"
   ]
  },
  {
   "cell_type": "code",
   "execution_count": 2,
   "id": "5bdac690",
   "metadata": {
    "execution": {
     "iopub.execute_input": "2024-03-20T16:37:18.600769Z",
     "iopub.status.busy": "2024-03-20T16:37:18.599766Z",
     "iopub.status.idle": "2024-03-20T16:37:18.642879Z",
     "shell.execute_reply": "2024-03-20T16:37:18.639857Z"
    }
   },
   "outputs": [
    {
     "name": "stderr",
     "output_type": "stream",
     "text": [
      "\u001b[32m2024-03-20 22:07:18.626\u001b[0m | \u001b[33m\u001b[1mWARNING \u001b[0m | \u001b[36mtwscrape.accounts_pool\u001b[0m:\u001b[36madd_account\u001b[0m:\u001b[36m76\u001b[0m - \u001b[33m\u001b[1mAccount xolo_2003 already exists\u001b[0m\n"
     ]
    }
   ],
   "source": [
    "api = API()\n",
    "await api.pool.add_account(\"xolo_2003\", \"Narusasu@2003\", 'aman.tyagiofficial2003@gmail.com', \"Narusasu@2003\")"
   ]
  },
  {
   "cell_type": "code",
   "execution_count": 3,
   "id": "71b806ba",
   "metadata": {
    "execution": {
     "iopub.execute_input": "2024-03-20T16:37:18.654890Z",
     "iopub.status.busy": "2024-03-20T16:37:18.653898Z",
     "iopub.status.idle": "2024-03-20T16:37:18.696949Z",
     "shell.execute_reply": "2024-03-20T16:37:18.694822Z"
    }
   },
   "outputs": [
    {
     "data": {
      "text/plain": [
       "{'total': 0, 'success': 0, 'failed': 0}"
      ]
     },
     "execution_count": 3,
     "metadata": {},
     "output_type": "execute_result"
    }
   ],
   "source": [
    "await api.pool.login_all()"
   ]
  },
  {
   "cell_type": "code",
   "execution_count": 4,
   "id": "c3d4bcb0",
   "metadata": {
    "execution": {
     "iopub.execute_input": "2024-03-20T16:37:18.709950Z",
     "iopub.status.busy": "2024-03-20T16:37:18.706991Z",
     "iopub.status.idle": "2024-03-20T16:37:18.727119Z",
     "shell.execute_reply": "2024-03-20T16:37:18.721086Z"
    }
   },
   "outputs": [],
   "source": [
    "data = gather(api.search(\"larsentoubro\", limit=20))  # list[Tweet]"
   ]
  },
  {
   "cell_type": "code",
   "execution_count": 5,
   "id": "8e18c067",
   "metadata": {
    "execution": {
     "iopub.execute_input": "2024-03-20T16:37:18.747116Z",
     "iopub.status.busy": "2024-03-20T16:37:18.745115Z",
     "iopub.status.idle": "2024-03-20T16:37:18.763419Z",
     "shell.execute_reply": "2024-03-20T16:37:18.759199Z"
    }
   },
   "outputs": [
    {
     "name": "stdout",
     "output_type": "stream",
     "text": [
      "<coroutine object gather at 0x00000272FC324740>\n"
     ]
    }
   ],
   "source": [
    "print(data)\n",
    "tweet_lst=[]"
   ]
  },
  {
   "cell_type": "code",
   "execution_count": 6,
   "id": "20018c8a",
   "metadata": {
    "execution": {
     "iopub.execute_input": "2024-03-20T16:37:18.776414Z",
     "iopub.status.busy": "2024-03-20T16:37:18.774424Z",
     "iopub.status.idle": "2024-03-20T16:37:27.500371Z",
     "shell.execute_reply": "2024-03-20T16:37:27.495292Z"
    }
   },
   "outputs": [
    {
     "name": "stdout",
     "output_type": "stream",
     "text": [
      "[1770463300721004960, 'annuclint', '@IndexKarnataka @larsentoubro What about Whitefield line? 🤔']\n",
      "[1770460922609340748, 'IndexKarnataka', '. @larsentoubro has hit the ground in #Kanaka corridor!\\n\\nMeanwhile SWR transfers 115 acres for kanaka line\\n\\n#Heelalige\\n\\nL&amp;T workers spotted at #Heelalige railway station (survey &amp; construction workers with L&amp;T helmet) https://t.co/b8sdShCyZR']\n",
      "[1770408437127479783, 'larsentoubro', 'As #WorldWaterDay approaches, we take a look at how L&amp;T is helping transform #WaterInfrastructure in rural and urban areas of the Nation.\\xa0\\n\\n#TechnologyForSustainableGrowth https://t.co/OXW3dBaJTk']\n",
      "[1770400038675419445, 'pipelinejournal', 'Larsen &amp; Toubro Secures Major Onshore Gas Pipeline Project in the Middle East\\n\\nRead more ▶️ https://t.co/ObRU5qPz61\\n\\n@larsentoubro #pipelinejournal #pipelinenews #pipelineindustry #pipelines #MiddleEast #gas']\n",
      "[1770382788048609426, 'bhayalv', '@mybmc @CMOMaharashtra @Dev_Fadnavis @dvkesarkar @MPLodha Till now No Work has been started yet on this most wanted project... Further connecting to Vasai Virar... @CMOMaharashtra @mieknathshinde @Dev_Fadnavis @mybmc @MMRDAOfficial @larsentoubro']\n",
      "[1770297047658402241, 'ETNOWlive', 'JUST IN | L&amp;T Tech to train 1,000 engineers in 3 yrs on Nvidia AI software: Agencies\\n\\n@larsentoubro https://t.co/uUHC2uyodV']\n",
      "[1770255322437095505, 'Shiba11651', 'Jump Rope\\n\\nHealth Benefits:\\n- High calorie burning workout\\n- Helps with stress reduction\\n\\n58th Challenge on - 20th Mar 2024\\n@larsentoubro \\n@GOQii \\n@GOQiiLife \\n#GOQiiCorporateChallenge\\n\\n#skip #skipping #ropejumping #jumpropeworkout  #reeloftheday  #fitatfifty #fitatanyage https://t.co/n9l14Mhpls']\n",
      "[1770153372730970251, 'Kadaravali', '@reliancegroup @TataCompanies @AdaniOnline @TheJSWGroup @larsentoubro @AdityaBirlaGrp\\nwell the gauntlet is thrown, become immortal in India do something very decent to your country.']\n",
      "[1770092020083937645, 'Paul_Koshy', 'Dear #Ambani \\nListen to this https://t.co/L6CUAgY0An']\n",
      "[1770148862088315172, 'ankitmistry', \"Let's get healthier together. #GOQiiCorporateChallenge #BeTheForce @GOQiiLife @GOQii @larsentoubro #larsentoubro https://t.co/KRWz8kLhRX\"]\n",
      "[1770055118827974899, 'MyEconomicTimes', \"Is A.M. Naik a bully? Listen to what @larsentoubro's Chairman Emeritus has to say! He also talks about how he saved the company from two hostile takeovers. Tune in to #TheMorningBrief podcast hosted by @arijitbarman76!\\n\\nListen now:\\nhttps://t.co/4gjRtOFuRQ https://t.co/g4uRZZnWfN\"]\n",
      "[1770034993110085935, 'tech_feed2023', '1. Larsen &amp; Toubro Limited A giant in the construction and infrastructure industry, L&amp;T’s projects span various sectors, including roads, railways, and energy. Their innovation and scale make them a leader in the field. #LarsenToubro https://t.co/BtuY3Gi7rb']\n",
      "[1769975843181219997, 'EconomicTimes', \"Is #AMNaik a bully? Listen to what @larsentoubro's Chairman Emeritus has to say on this. He also talks about how he saved the company from two hostile takeovers. Listen to the latest episode of the #ETMorningBriefPodcast hosted by @arijitbarman76! https://t.co/8fzbz0AHnF https://t.co/2K8iChQ9tK\"]\n",
      "[1769970934402765045, 'Aura42185274', '@MunaPriyabdk @gemsofbabus_ @larsentoubro 😂😂']\n",
      "[1769946269072728086, 'MyEconomicTimes', \"A.M. Naik, @larsentoubro's Chairman Emeritus &amp; ET's lifetime achiever, is on #TheMorningBrief podcast. This maverick leader grew L&amp;T 36X &amp; fought off two takeover bids. Don't miss his inspiring story as he talks to @arijitbarman76!\\n\\n#business\\n\\nListen now:\\nhttps://t.co/4gjRtOFuRQ https://t.co/nX2kgn0tjf\"]\n",
      "[1769944947711758765, 'sumitmittal0711', \"@larsentoubro Please release my amount .It's already delay.\\nAmount is in due list . Please make payment. https://t.co/Ynt8XVQQWZ\"]\n",
      "[1769925061153349915, 'Shiba11651', 'Makhana\\n\\nHealth Benefits:\\n- Rich in plant based protein \\n- Helps with weight control\\n\\n57th Challenge on - 19th Mar 2024\\n@larsentoubro\\n@GOQii\\n@GOQiiLife\\n#GOQiiCorporateChallenge \\n\\n#makhana #plantprotein \\n#healthysnacks #HealthySnacking \\n#healthyeating https://t.co/8dP1wSbhuY']\n",
      "[1769917962020929588, 'EconomicTimes', \"#AMNaik, @larsentoubro 's Chairman Emeritus &amp; ET's lifetime achiever, is on the #ETMorningBriefPodcast. This maverick leader grew L&amp;T 36X &amp; fought off two takeover bids. Don't miss his inspiring story as he talks to @arijitbarman76! https://t.co/8fzbz0AHnF https://t.co/jjGwxJWwVk\"]\n",
      "[1769733346806956269, 'Shiba11651', 'Healthy Snacks\\nHealth Benefits:\\n- Boosts immune function \\n- Reduce the risk of chronic diseases\\n\\n56th Challenge on - 18th Mar 2024\\n@larsentoubro\\n@GOQii\\n@GOQiiLife\\n#GOQiiCorporateChallenge \\n\\n#healthysnacks #HealthySnacking \\n#healthyeating #healthymeals #homemadefood #fitnesstips https://t.co/zfF1EzkOb0']\n",
      "[1769713296595398757, 'TweetsFromArora', '#MumbaiMetro project is the slowest construction of this century. \\n\\n@MMRDAOfficial @Dev_Fadnavis @larsentoubro']\n",
      "[1769663715555651870, 'NDTVProfitHindi', 'अगले 5 साल में 15-25% CAGR रिटर्न दे सकते हैं ये शेयर\\n\\n#JSWEnergy #LarsenToubro #MacrotechDevelopers #MaxHealthcare https://t.co/DClFsP345J']\n",
      "[1769619190527197404, 'TheWealthelite', 'Top holdings of #Quant Flexi Cap Fund   #RelianceIndustries \\n#JioFinance \\n#Swanenergy \\n#HUDCO \\n#AdaniPower \\n#Larsentoubro \\n#Biocon \\n#britannia \\n#Hindalco \\n#LIC \\n#SAIL']\n",
      "[1769595008397738196, 'TheWealthelite', '#Jefferies’s 11 Stocks for the next 5 Years. \\n\\n#Amber #ambujacem  #AxisBank #BhartiAirtel \\n#JSWEnergy #LarsenToubro #Macrotech #MaxHealthcare #SBI #TVSMotors #Zomato https://t.co/N1OLPh3Qii']\n",
      "[1769581059166154813, 'mittalsunny22', 'Hi @AAPPunjab , @larsentoubro and @Puneet_banga_ \\n\\nI want to drag your attention to our street condition which is broken by L&amp;T for water pipes and they ran away in-between and the road condition is worst now. Even small insects and mosquitos started breeding. https://t.co/h3eQdbaM6r']\n",
      "[1769536664278274120, 'ETNOWlive', \"News Alert | Here's a quick look at the top takeaways from L&amp;T Finance's management meet at the Morgan Stanley Conference👇🏾\\n\\n@larsentoubro https://t.co/EYvCedP1AG\"]\n",
      "[1769411215720116308, 'PankajGorakhpur', 'Colorful vegetables salad\\n#GOQiiCorporateChallenge\\n@GOQii \\n@larsentoubro \\n#PANKAJ KUMAR\\n#L&amp;T https://t.co/p9cWqWb3yj']\n",
      "[1769388461763477599, 'Truely_desi05', '@larsentoubro @nitin_gadkari Today, IT employees earning 4-10lac per year with 0-5 yrs of experience.\\nBut if civil work companies create career path, where they can reward 10-30 lac for same duration of experience!\\nI am sure, Naukri dot com will be slapped with thousands of application for such Jobs!']\n",
      "[1769388019717451939, 'Truely_desi05', '@larsentoubro @nitin_gadkari If security guard in mall and bank can earn 25k in AC work place, why he will choose job to do hardwork.']\n",
      "[1769387615839490252, 'Truely_desi05', \"@larsentoubro As the Per capita GDP will grow,people will hunt for white collar jobs, why one shall opt for labor job to roast self on road and bridge work for 10-20k per month!\\n@nitin_gadkari - hard work is men's known strength, but reward them likr men!\"]\n",
      "[1769387216579568084, 'Truely_desi05', \"@larsentoubro - It's time, nation has to rethink on labor market.\\nIt's not going to be lucrative without making it financially attractive career destination, also making work place more survivable for average youth. https://t.co/M1OoJaNeSy\"]\n",
      "[1769372819652215274, 'TheWealthelite', 'Top holdings of #SBI Flexicap Fund.\\n#ICICIBank \\n#KotakBank \\n#Reliance \\n#Infosys  \\n#Cognizant\\n#HDFCBank \\n#LarsenToubro\\n#Mahindra']\n",
      "[1769372609261756523, 'TheWealthelite', 'Top holdings of #Quant Flexi Cap Fund \\n\\n#RelianceIndustries \\n#JioFinance \\n#Swanenergy \\n#HUDCO \\n#AdaniPower \\n#Larsentoubro \\n#Biocon \\n#britannia \\n#Hindalco \\n#LIC \\n#SAIL']\n",
      "[1769367800584507527, 'surya01021984', '@larsentoubro Congratulations Sir. U would need a separate building to house ur awards....']\n",
      "[1769335471979770326, 'saibharadwaj', \"@San1_Santosh28 Not really. Contracts to @larsentoubro in India are terrific projects. They're doing fantastic work. \\n\\nI wish someday they take up the messy work of getting rid of old seethafalmandi flyover in secundrabad and lay over something similar! That is the most corrupt flyover in hyd!\"]\n",
      "[1769235631438487611, 'yrs_dinesh', '@larsentoubro Congrts nailk bhaiya ji']\n",
      "[1769221816986530004, 'SelvarajY9', '@larsentoubro Great and grand day celebration sir...']\n",
      "[1769137135930712215, 'SriHariMass', '@larsentoubro Congratulations sir !']\n",
      "[1769062715606339658, 'AshishMish18852', '@larsentoubro Congratulations @larsentoubro']\n",
      "[1769059062191186235, 'Rajeshyadav7761', '@anandmahindra @larsentoubro Bekar services\\n@anandmahindra @Mahindra_Auto @MahindraRise Maxx pickup cng Li thi 5 mahine use nahi kar paye aur compansation ke naam lene par company bawali ho gayi...itna bekar product banaya tab nahi socha tha kya, see you in consumer court']\n",
      "[1769047003038945611, 'KishorSahu_INC', '@larsentoubro Kishor Ch. Sahu, Vendor No S0065761, Sambalpur-Barpali 2nd lane railway project on 2014-15.\\n\\nRetention amnt is pending Where as I hv alredy submitted the required docs to the Jharsuguda office.\\nNow nobody responding me bout this matter in the office. \\n\\n Please solve t matter']\n",
      "[1769041178559700994, 'BM_nagpur', '@larsentoubro Congratulations Sir , Jai hind']\n",
      "[1769018565016129712, 'rajatkhawas', '@tataadvanced\\n@anandmahindra\\n@AdaniOnline\\n@adgpi\\n@DRDO_India\\n@larsentoubro\\n@rajnathsingh\\n@IndianDefense1\\nhttps://t.co/123jcSALwa']\n",
      "[1769011314108596587, 'ImTheBaljeet', '@rhumane029 @larsentoubro @BJP4India Politics ruined Bihar and Rajasthan Cricket.']\n",
      "[1769010546370859427, 'rhumane029', '@ImTheBaljeet this is what development is all about... Kudos to @larsentoubro for keeping the word and @BJP4India .. Rajasthan govt and cricket association should see this... pathetic condition of Chonp cricket stadium is what Congress is all about']\n",
      "[1768986417315840405, 'RAMESHJBHOJWANI', '@larsentoubro A corrwction it is Mr. A M Naik.']\n",
      "[1768986161115189463, 'svane_freddy', '@larsentoubro Congratulations - a true nation builder']\n",
      "[1768985989517910375, 'RAMESHJBHOJWANI', '@larsentoubro Many Heartiest Congratulations Mr. A M Nayak on being conferred the Lifetime Achievement Award. Truly the blood and sweat effort of an entire lifetime has been finally recognised, respected and revered. All the best.']\n",
      "[1768983496150700365, 'larsentoubro', 'Mr A M Naik, Chairman Emeritus, Larsen & Toubro was conferred the prestigious Lifetime Achievement Award by The Economic Times at the #ETAwards ceremony in Mumbai on 15 March.\\nThe award recognises Mr Naik’s outstanding contribution in shaping L&T’s identity from an engineering and construction giant into a global conglomerate.']\n",
      "[1768947293431251156, 'KridePrm', '#BSRP\\n@AshwiniVaishnaw @CMofKarnataka @DKShivakumar @MBPatil @KfW @larsentoubro @RailMinIndia @SWRRLY']\n",
      "[1768942668481204559, 'KridePrm', '#BSRP\\n\\n@AshwiniVaishnaw @CMofKarnataka @DKShivakumar @MBPatil @KfW @larsentoubro @RailMinIndia @SWRRLY']\n",
      "[1768940422829867442, 'KridePrm', '#BSRP\\n\\n@AshwiniVaishnaw @CMofKarnataka @DKShivakumar @MBPatil @KfW @larsentoubro @RailMinIndia @SWRRLY']\n",
      "[1768913891398967437, 'ISUW_India', 'Thank you \"Digital Energy Solutions - Power, Transmission &amp; Distribution\" for joining #ISUW24 as a Gold partner\\n\\n🌐https://t.co/csDIA1bGoP | 📧isuw@isuw.in\\n\\nTags - @rejipillai | @suri_reena | @larsentoubro https://t.co/7qCffuta2m']\n",
      "[1768911144201474323, 'INCRajenPalani', '@chaitanya_pm L1 was @larsentoubro in this tender']\n",
      "[1768908855306752101, '695f18d6b88e44d', '@larsentoubro \\n\\nTo \\nBoard of directors of lt reality.']\n",
      "[1768905395395809643, '695f18d6b88e44d', 'To Directors \\n\\nWrt. Lt powai, need\\n3 dozen units in spv co. by issue of secured 15 year ncd\\n\\nMinimum share capital from hdfc bank savings a/c number 000512 00001912\\n\\nDeal by April 24\\n\\ncomplaint with cbi for Jeevan Vihar Mumbai- 6 https://t.co/HPCHgNU4Zv']\n",
      "[1768904122328100878, 'maheshvchandak', 'Excellent anchoring @akshaykumar. Thank you for bringing to us the wonderful story of @StatueOfUnity and the humongous effort which went behind executing this mammoth project. Kudos @narendramodi @larsentoubro @HISTORYTV18 and all involved.']\n",
      "[1764855450636583299, 'HISTORYTV18', \"The Statue of Unity is more than a monument — it's a celebration of India's pluralism and the thread of unity that's woven into its diverse cultural fabric. Join us on the awe-inspiring journey, from vision to completion of the World’s Tallest Statue, and witness the creation of Ekta Nagar, a hub of unity and progress. Watch ‘Statue Of Unity: Ekta Ka Prateek', with @akshaykumar, directed by @aanandlrai, premiering 8th March, Friday at 8 PM on @HistoryTV18.\\n\\n#StatueOfUnity\\n#EktaKaPrateek\\n\\n@narendramodi @souindia @tourismgoi @GujaratTourism @ramvanjisutar @udit_ias\"]\n",
      "[1768889673634684986, 'TheWealthelite', 'Top holdings of #SBI Flexicap Fund.\\n#ICICIBank \\n#KotakBank \\n#Reliance \\n#Infosys  \\n#Cognizant\\n#HDFCBank \\n#LarsenToubro\\n#Mahindra']\n",
      "[1768888736387858770, 'SwastikaInvest', 'LARSEN &amp; TOUBRO STOCK ANALYSIS | L&amp;T Share News #WeeklyChart \\nhttps://t.co/TvQJhACYxi\\n.\\n.\\n.\\n#swastikainvestmart #sharemarket #larsentoubro #technicalanalysis']\n",
      "[1768888576165728358, 'TheWealthelite', 'Top holdings of #Quant Flexi Cap Fund \\n\\n#RelianceIndustries \\n#JioFinance \\n#Swanenergy \\n#HUDCO \\n#AdaniPower \\n#Larsentoubro \\n#Biocon \\n#britannia \\n#Hindalco \\n#LIC \\n#SAIL']\n",
      "[1768857224078881009, 'uwchennai', 'UWC in collaboration with @larsentoubro identified, impoved &amp; inaugurated sanitation and hygiene wellness facilities across 5 government schools and facilitated in improving the behaviour of the children towards WaSH practices.\\n\\n#ProjectAakkam #BetterTogether #LIVEUNITED https://t.co/jInZM8yiax']\n",
      "[1768853186696331726, 'ghadiyaalexe', '@murasakix251 @gemsofbabus_ @larsentoubro dont give them ideas ye log kothe waali led lights laga denge😭']\n"
     ]
    }
   ],
   "source": [
    "async for tweet in api.search(\"larsentoubro\",limit=50):\n",
    "        tweet_lst.append([tweet.id, tweet.user.username, tweet.rawContent]) \n",
    "        print([tweet.id, tweet.user.username, tweet.rawContent]) "
   ]
  },
  {
   "cell_type": "code",
   "execution_count": 7,
   "id": "5bbcbb60",
   "metadata": {
    "execution": {
     "iopub.execute_input": "2024-03-20T16:37:27.516821Z",
     "iopub.status.busy": "2024-03-20T16:37:27.515855Z",
     "iopub.status.idle": "2024-03-20T16:37:27.540172Z",
     "shell.execute_reply": "2024-03-20T16:37:27.535032Z"
    }
   },
   "outputs": [],
   "source": [
    "import pickle\n",
    "pickle.dump(tweet_lst,open('./l&t_tweets_scraped','wb'))"
   ]
  },
  {
   "cell_type": "code",
   "execution_count": null,
   "id": "72101c14",
   "metadata": {},
   "outputs": [],
   "source": []
  },
  {
   "cell_type": "code",
   "execution_count": null,
   "id": "0ca374b1",
   "metadata": {},
   "outputs": [],
   "source": []
  },
  {
   "cell_type": "code",
   "execution_count": null,
   "id": "3f04c497",
   "metadata": {},
   "outputs": [],
   "source": [
    "\n"
   ]
  }
 ],
 "metadata": {
  "kernelspec": {
   "display_name": "py3.9",
   "language": "python",
   "name": "py3.9"
  },
  "language_info": {
   "codemirror_mode": {
    "name": "ipython",
    "version": 3
   },
   "file_extension": ".py",
   "mimetype": "text/x-python",
   "name": "python",
   "nbconvert_exporter": "python",
   "pygments_lexer": "ipython3",
   "version": "3.12.2"
  }
 },
 "nbformat": 4,
 "nbformat_minor": 5
}
