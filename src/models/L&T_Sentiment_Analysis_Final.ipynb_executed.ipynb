{
 "cells": [
  {
   "cell_type": "code",
   "execution_count": 1,
   "id": "dae33e49",
   "metadata": {
    "execution": {
     "iopub.execute_input": "2024-03-20T16:37:23.401694Z",
     "iopub.status.busy": "2024-03-20T16:37:23.401694Z",
     "iopub.status.idle": "2024-03-20T16:38:05.321189Z",
     "shell.execute_reply": "2024-03-20T16:38:05.314701Z"
    }
   },
   "outputs": [
    {
     "name": "stdout",
     "output_type": "stream",
     "text": [
      "['@user', 'L&T', 'is', 'such', 'a', 'cool', 'company', 'http']\n",
      "@user L&T is such a cool company http\n",
      "Negative 0.0015705187\n",
      "Neutral 0.018332109\n",
      "Positive 0.9800973\n"
     ]
    }
   ],
   "source": [
    "from transformers import AutoTokenizer,AutoModelForSequenceClassification\n",
    "from scipy.special import softmax\n",
    "\n",
    "tweet = \"@MehranShakarami L&T is such a cool company https://mehranshakarami.com\"\n",
    "#preprocess tweet\n",
    "tweet_words = []\n",
    "\n",
    "for word in tweet.split(' '):\n",
    "    if word.startswith('@') and len(word) > 1:\n",
    "        word = '@user'\n",
    "    elif word.startswith('http'):\n",
    "        word = \"http\"\n",
    "    tweet_words.append(word)\n",
    "\n",
    "print(tweet_words)\n",
    "\n",
    "tweet_proc = \" \".join(tweet_words)\n",
    "print(tweet_proc)\n",
    "\n",
    "#load model and tokenizer\n",
    "roberta = \"cardiffnlp/twitter-roberta-base-sentiment\"\n",
    "model = AutoModelForSequenceClassification.from_pretrained(roberta)\n",
    "tokenizer = AutoTokenizer.from_pretrained(roberta)\n",
    "labels = ['Negative', 'Neutral', 'Positive']\n",
    "\n",
    "# sentiment analysis\n",
    "encoded_tweet = tokenizer(tweet_proc, return_tensors='pt')\n",
    "# output = model(encoded_tweet['input_ids'],encoded_tweet['attention_mask'])\n",
    "# print(output)\n",
    "\n",
    "output = model(**encoded_tweet)\n",
    "\n",
    "scores = output[0][0].detach().numpy()\n",
    "scores = softmax(scores)\n",
    "\n",
    "for i in range(len(scores)):\n",
    "    l = labels[i]\n",
    "    s = scores[i]\n",
    "    print(l,s)\n"
   ]
  },
  {
   "cell_type": "code",
   "execution_count": 2,
   "id": "c24e0d19",
   "metadata": {
    "execution": {
     "iopub.execute_input": "2024-03-20T16:38:05.345162Z",
     "iopub.status.busy": "2024-03-20T16:38:05.342596Z",
     "iopub.status.idle": "2024-03-20T16:38:23.942984Z",
     "shell.execute_reply": "2024-03-20T16:38:23.936690Z"
    }
   },
   "outputs": [
    {
     "name": "stdout",
     "output_type": "stream",
     "text": [
      "Requirement already satisfied: transformers in c:\\users\\aman tyagi\\anaconda3\\lib\\site-packages (4.38.2)\n",
      "Requirement already satisfied: tqdm>=4.27 in c:\\users\\aman tyagi\\anaconda3\\lib\\site-packages (from transformers) (4.64.0)\n",
      "Requirement already satisfied: numpy>=1.17 in c:\\users\\aman tyagi\\anaconda3\\lib\\site-packages (from transformers) (1.21.5)\n",
      "Requirement already satisfied: requests in c:\\users\\aman tyagi\\anaconda3\\lib\\site-packages (from transformers) (2.27.1)\n",
      "Requirement already satisfied: filelock in c:\\users\\aman tyagi\\anaconda3\\lib\\site-packages (from transformers) (3.6.0)\n",
      "Requirement already satisfied: huggingface-hub<1.0,>=0.19.3 in c:\\users\\aman tyagi\\anaconda3\\lib\\site-packages (from transformers) (0.21.4)\n",
      "Requirement already satisfied: pyyaml>=5.1 in c:\\users\\aman tyagi\\anaconda3\\lib\\site-packages (from transformers) (6.0)\n",
      "Requirement already satisfied: regex!=2019.12.17 in c:\\users\\aman tyagi\\anaconda3\\lib\\site-packages (from transformers) (2022.3.15)\n",
      "Requirement already satisfied: tokenizers<0.19,>=0.14 in c:\\users\\aman tyagi\\anaconda3\\lib\\site-packages (from transformers) (0.15.2)\n",
      "Requirement already satisfied: packaging>=20.0 in c:\\users\\aman tyagi\\anaconda3\\lib\\site-packages (from transformers) (23.2)\n",
      "Requirement already satisfied: safetensors>=0.4.1 in c:\\users\\aman tyagi\\anaconda3\\lib\\site-packages (from transformers) (0.4.2)\n",
      "Requirement already satisfied: fsspec>=2023.5.0 in c:\\users\\aman tyagi\\anaconda3\\lib\\site-packages (from huggingface-hub<1.0,>=0.19.3->transformers) (2024.2.0)\n",
      "Requirement already satisfied: typing-extensions>=3.7.4.3 in c:\\users\\aman tyagi\\anaconda3\\lib\\site-packages (from huggingface-hub<1.0,>=0.19.3->transformers) (4.9.0)\n",
      "Requirement already satisfied: colorama in c:\\users\\aman tyagi\\anaconda3\\lib\\site-packages (from tqdm>=4.27->transformers) (0.4.4)\n",
      "Requirement already satisfied: idna<4,>=2.5 in c:\\users\\aman tyagi\\anaconda3\\lib\\site-packages (from requests->transformers) (3.3)Note: you may need to restart the kernel to use updated packages.\n",
      "Requirement already satisfied: certifi>=2017.4.17 in c:\\users\\aman tyagi\\anaconda3\\lib\\site-packages (from requests->transformers) (2021.10.8)\n",
      "Requirement already satisfied: charset-normalizer~=2.0.0 in c:\\users\\aman tyagi\\anaconda3\\lib\\site-packages (from requests->transformers) (2.0.4)\n",
      "\n",
      "Requirement already satisfied: urllib3<1.27,>=1.21.1 in c:\\users\\aman tyagi\\anaconda3\\lib\\site-packages (from requests->transformers) (1.26.9)\n"
     ]
    }
   ],
   "source": [
    "pip install transformers\n"
   ]
  },
  {
   "cell_type": "code",
   "execution_count": 3,
   "id": "20830faa",
   "metadata": {
    "execution": {
     "iopub.execute_input": "2024-03-20T16:38:23.962115Z",
     "iopub.status.busy": "2024-03-20T16:38:23.960826Z",
     "iopub.status.idle": "2024-03-20T16:38:39.352798Z",
     "shell.execute_reply": "2024-03-20T16:38:39.349846Z"
    }
   },
   "outputs": [
    {
     "name": "stdout",
     "output_type": "stream",
     "text": [
      "Requirement already satisfied: scipy in c:\\users\\aman tyagi\\anaconda3\\lib\\site-packages (1.7.3)\n",
      "Requirement already satisfied: numpy<1.23.0,>=1.16.5 in c:\\users\\aman tyagi\\anaconda3\\lib\\site-packages (from scipy) (1.21.5)\n",
      "Note: you may need to restart the kernel to use updated packages.\n"
     ]
    }
   ],
   "source": [
    "pip install scipy"
   ]
  },
  {
   "cell_type": "code",
   "execution_count": 4,
   "id": "a58c5bef",
   "metadata": {
    "execution": {
     "iopub.execute_input": "2024-03-20T16:38:39.362592Z",
     "iopub.status.busy": "2024-03-20T16:38:39.361300Z",
     "iopub.status.idle": "2024-03-20T16:38:39.383718Z",
     "shell.execute_reply": "2024-03-20T16:38:39.380695Z"
    }
   },
   "outputs": [],
   "source": [
    "import pickle"
   ]
  },
  {
   "cell_type": "code",
   "execution_count": 5,
   "id": "1047f707",
   "metadata": {
    "execution": {
     "iopub.execute_input": "2024-03-20T16:38:39.394812Z",
     "iopub.status.busy": "2024-03-20T16:38:39.393819Z",
     "iopub.status.idle": "2024-03-20T16:38:39.474899Z",
     "shell.execute_reply": "2024-03-20T16:38:39.472855Z"
    }
   },
   "outputs": [
    {
     "name": "stdout",
     "output_type": "stream",
     "text": [
      "62\n"
     ]
    }
   ],
   "source": [
    "tweets_loaded = pickle.load(open('./l&t_tweets_scraped','rb'))\n",
    "print(len(tweets_loaded))"
   ]
  },
  {
   "cell_type": "code",
   "execution_count": 6,
   "id": "32f39265",
   "metadata": {
    "execution": {
     "iopub.execute_input": "2024-03-20T16:38:39.491871Z",
     "iopub.status.busy": "2024-03-20T16:38:39.490229Z",
     "iopub.status.idle": "2024-03-20T16:39:24.353813Z",
     "shell.execute_reply": "2024-03-20T16:39:24.349813Z"
    }
   },
   "outputs": [
    {
     "name": "stdout",
     "output_type": "stream",
     "text": [
      "Negative 0.07196513\n",
      "Neutral 0.89792854\n",
      "Positive 0.030106502\n",
      "Negative 0.11141272\n",
      "Neutral 0.8256233\n",
      "Positive 0.06296398\n",
      "Negative 0.0029707346\n",
      "Neutral 0.38974622\n",
      "Positive 0.6072832\n",
      "Negative 0.022270339\n",
      "Neutral 0.8831997\n",
      "Positive 0.09452988\n",
      "Negative 0.055966895\n",
      "Neutral 0.7100001\n",
      "Positive 0.23403297\n",
      "Negative 0.013590566\n",
      "Neutral 0.86270875\n",
      "Positive 0.12370057\n",
      "Negative 0.007942195\n",
      "Neutral 0.4846055\n",
      "Positive 0.50745225\n",
      "Negative 0.08989422\n",
      "Neutral 0.5266721\n",
      "Positive 0.3834336\n",
      "Negative 0.07581322\n",
      "Neutral 0.8486111\n",
      "Positive 0.07557562\n",
      "Negative 0.00302271\n",
      "Neutral 0.22765832\n",
      "Positive 0.76931906\n",
      "Negative 0.041348148\n",
      "Neutral 0.609448\n",
      "Positive 0.34920397\n",
      "Negative 0.0018924659\n",
      "Neutral 0.102137245\n",
      "Positive 0.89597034\n",
      "Negative 0.06864773\n",
      "Neutral 0.71064556\n",
      "Positive 0.22070672\n",
      "Negative 0.063393936\n",
      "Neutral 0.7776278\n",
      "Positive 0.1589782\n",
      "Negative 0.0016267266\n",
      "Neutral 0.09286458\n",
      "Positive 0.90550864\n",
      "Negative 0.5032691\n",
      "Neutral 0.45756498\n",
      "Positive 0.039165903\n",
      "Negative 0.006494216\n",
      "Neutral 0.47538504\n",
      "Positive 0.51812077\n",
      "Negative 0.0016549231\n",
      "Neutral 0.080200404\n",
      "Positive 0.9181447\n",
      "Negative 0.010698385\n",
      "Neutral 0.42723718\n",
      "Positive 0.5620644\n",
      "Negative 0.7314545\n",
      "Neutral 0.24257562\n",
      "Positive 0.025969855\n",
      "Negative 0.06776268\n",
      "Neutral 0.88598937\n",
      "Positive 0.046247974\n",
      "Negative 0.026792808\n",
      "Neutral 0.9099396\n",
      "Positive 0.0632676\n",
      "Negative 0.03359017\n",
      "Neutral 0.8661677\n",
      "Positive 0.10024206\n",
      "Negative 0.9154009\n",
      "Neutral 0.079173714\n",
      "Positive 0.0054253293\n",
      "Negative 0.0062640016\n",
      "Neutral 0.729582\n",
      "Positive 0.26415414\n",
      "Negative 0.01749444\n",
      "Neutral 0.8554811\n",
      "Positive 0.12702438\n",
      "Negative 0.07947226\n",
      "Neutral 0.5655477\n",
      "Positive 0.35497996\n",
      "Negative 0.20319264\n",
      "Neutral 0.75538397\n",
      "Positive 0.04142324\n",
      "Negative 0.039556764\n",
      "Neutral 0.48435625\n",
      "Positive 0.47608694\n",
      "Negative 0.17160472\n",
      "Neutral 0.5195843\n",
      "Positive 0.3088109\n",
      "Negative 0.025401738\n",
      "Neutral 0.90078676\n",
      "Positive 0.07381132\n",
      "Negative 0.03409624\n",
      "Neutral 0.9076062\n",
      "Positive 0.05829742\n",
      "Negative 0.007632896\n",
      "Neutral 0.12490014\n",
      "Positive 0.867467\n",
      "Negative 0.1301878\n",
      "Neutral 0.30603018\n",
      "Positive 0.563782\n",
      "Negative 0.037265588\n",
      "Neutral 0.8793025\n",
      "Positive 0.08343202\n",
      "Negative 0.001299418\n",
      "Neutral 0.025737623\n",
      "Positive 0.97296286\n",
      "Negative 0.0016209628\n",
      "Neutral 0.035699844\n",
      "Positive 0.9626791\n",
      "Negative 0.001432823\n",
      "Neutral 0.0652758\n",
      "Positive 0.93329155\n",
      "Negative 0.08353962\n",
      "Neutral 0.8742935\n",
      "Positive 0.042166848\n",
      "Negative 0.6260593\n",
      "Neutral 0.35404664\n",
      "Positive 0.019894032\n",
      "Negative 0.0024278688\n",
      "Neutral 0.07843456\n",
      "Positive 0.9191374\n",
      "Negative 0.07893092\n",
      "Neutral 0.8788282\n",
      "Positive 0.04224094\n",
      "Negative 0.780628\n",
      "Neutral 0.21064672\n",
      "Positive 0.008725128\n",
      "Negative 0.14600638\n",
      "Neutral 0.5049694\n",
      "Positive 0.3490242\n",
      "Negative 0.048693467\n",
      "Neutral 0.89798963\n",
      "Positive 0.053316932\n",
      "Negative 0.0016271361\n",
      "Neutral 0.037672713\n",
      "Positive 0.9607001\n",
      "Negative 0.0014518178\n",
      "Neutral 0.023792015\n",
      "Positive 0.9747561\n",
      "Negative 0.0013546732\n",
      "Neutral 0.11525551\n",
      "Positive 0.88338983\n",
      "Negative 0.07249342\n",
      "Neutral 0.87700266\n",
      "Positive 0.050503816\n",
      "Negative 0.076606914\n",
      "Neutral 0.87224644\n",
      "Positive 0.051146653\n",
      "Negative 0.076606914\n",
      "Neutral 0.87224644\n",
      "Positive 0.051146653\n",
      "Negative 0.0009062269\n",
      "Neutral 0.07015416\n",
      "Positive 0.9289396\n",
      "Negative 0.03982033\n",
      "Neutral 0.8896751\n",
      "Positive 0.07050449\n",
      "Negative 0.089984335\n",
      "Neutral 0.85945433\n",
      "Positive 0.050561395\n",
      "Negative 0.095079295\n",
      "Neutral 0.880983\n",
      "Positive 0.023937596\n",
      "Negative 0.0013222671\n",
      "Neutral 0.018080575\n",
      "Positive 0.98059726\n",
      "Negative 0.002227141\n",
      "Neutral 0.29382172\n",
      "Positive 0.7039512\n",
      "Negative 0.025401738\n",
      "Neutral 0.90078676\n",
      "Positive 0.07381132\n",
      "Negative 0.058021165\n",
      "Neutral 0.879925\n",
      "Positive 0.06205391\n",
      "Negative 0.03409624\n",
      "Neutral 0.9076062\n",
      "Positive 0.05829742\n",
      "Negative 0.003528565\n",
      "Neutral 0.28603503\n",
      "Positive 0.71043617\n",
      "Negative 0.7119824\n",
      "Neutral 0.27468574\n",
      "Positive 0.013331692\n",
      "['Neutral', 'Neutral', 'Positive', 'Neutral', 'Neutral', 'Neutral', 'Positive', 'Neutral', 'Neutral', 'Positive', 'Neutral', 'Positive', 'Neutral', 'Neutral', 'Positive', 'Negative', 'Positive', 'Positive', 'Positive', 'Negative', 'Neutral', 'Neutral', 'Neutral', 'Negative', 'Neutral', 'Neutral', 'Neutral', 'Neutral', 'Neutral', 'Neutral', 'Neutral', 'Neutral', 'Positive', 'Positive', 'Neutral', 'Positive', 'Positive', 'Positive', 'Neutral', 'Negative', 'Positive', 'Neutral', 'Negative', 'Neutral', 'Neutral', 'Positive', 'Positive', 'Positive', 'Neutral', 'Neutral', 'Neutral', 'Positive', 'Neutral', 'Neutral', 'Neutral', 'Positive', 'Positive', 'Neutral', 'Neutral', 'Neutral', 'Positive', 'Negative'] [0.89792854, 0.8256233, 0.6072832, 0.8831997, 0.7100001, 0.86270875, 0.50745225, 0.5266721, 0.8486111, 0.76931906, 0.609448, 0.89597034, 0.71064556, 0.7776278, 0.90550864, 0.5032691, 0.51812077, 0.9181447, 0.5620644, 0.7314545, 0.88598937, 0.9099396, 0.8661677, 0.9154009, 0.729582, 0.8554811, 0.5655477, 0.75538397, 0.48435625, 0.5195843, 0.90078676, 0.9076062, 0.867467, 0.563782, 0.8793025, 0.97296286, 0.9626791, 0.93329155, 0.8742935, 0.6260593, 0.9191374, 0.8788282, 0.780628, 0.5049694, 0.89798963, 0.9607001, 0.9747561, 0.88338983, 0.87700266, 0.87224644, 0.87224644, 0.9289396, 0.8896751, 0.85945433, 0.880983, 0.98059726, 0.7039512, 0.90078676, 0.879925, 0.9076062, 0.71043617, 0.7119824]\n"
     ]
    }
   ],
   "source": [
    "from transformers import AutoTokenizer,AutoModelForSequenceClassification\n",
    "from scipy.special import softmax\n",
    "#loading model and tokenizer\n",
    "roberta = \"cardiffnlp/twitter-roberta-base-sentiment\"\n",
    "model = AutoModelForSequenceClassification.from_pretrained(roberta)\n",
    "tokenizer = AutoTokenizer.from_pretrained(roberta)\n",
    "labels = ['Negative', 'Neutral', 'Positive']\n",
    "\n",
    "prediction_labels_lst=[]\n",
    "prediction_scores_lst=[]\n",
    "\n",
    "for tweet in tweets_loaded:\n",
    "    \n",
    "\n",
    "    # sentiment analysis\n",
    "    encoded_tweet = tokenizer(tweet[2], return_tensors='pt')\n",
    "    # output = model(encoded_tweet['input_ids'],encoded_tweet['attention_mask'])\n",
    "    # print(output)\n",
    "\n",
    "    output = model(**encoded_tweet)\n",
    "\n",
    "    scores = output[0][0].detach().numpy()\n",
    "    scores = softmax(scores)\n",
    "\n",
    "\n",
    "    for i in range(len(scores)):\n",
    "        l = labels[i]\n",
    "        s = scores[i]\n",
    "        print(l,s)\n",
    "    if scores[0]>scores[1] and scores[0]>scores[2]:\n",
    "        prediction_labels_lst.append(labels[0])\n",
    "        prediction_scores_lst.append(scores[0])\n",
    "    elif scores[1]>scores[0] and scores[1]>scores[2]:\n",
    "        prediction_labels_lst.append(labels[1])\n",
    "        prediction_scores_lst.append(scores[1])\n",
    "    else:\n",
    "        prediction_labels_lst.append(labels[2])\n",
    "        prediction_scores_lst.append(scores[2])\n",
    "\n",
    "\n",
    "print(prediction_labels_lst,prediction_scores_lst)\n",
    "        \n",
    "\n",
    "    "
   ]
  },
  {
   "cell_type": "code",
   "execution_count": 7,
   "id": "a6804be0",
   "metadata": {
    "execution": {
     "iopub.execute_input": "2024-03-20T16:39:24.368563Z",
     "iopub.status.busy": "2024-03-20T16:39:24.368563Z",
     "iopub.status.idle": "2024-03-20T16:39:24.411561Z",
     "shell.execute_reply": "2024-03-20T16:39:24.409561Z"
    }
   },
   "outputs": [],
   "source": [
    "tweet_ids=[]\n",
    "tweet_content=[]\n",
    "for tweet_info in tweets_loaded:\n",
    "    tweet_ids.append(tweet_info[1])\n",
    "for tweet_info in tweets_loaded:\n",
    "    tweet_content.append(tweet_info[2])\n",
    "    \n",
    "\n",
    "data_to_dump = {\"prediction_labels\":prediction_labels_lst, \"prediction_scores\":prediction_scores_lst, \"tweet_id\":tweet_ids, \"tweet\": tweet_content}  \n",
    "\n",
    "# Dump the data using pickle\n",
    "with open('./L&T_predictions', 'wb') as f:\n",
    "    pickle.dump(data_to_dump, f)\n"
   ]
  }
 ],
 "metadata": {
  "kernelspec": {
   "display_name": "Python 3",
   "language": "python",
   "name": "python3"
  },
  "language_info": {
   "codemirror_mode": {
    "name": "ipython",
    "version": 3
   },
   "file_extension": ".py",
   "mimetype": "text/x-python",
   "name": "python",
   "nbconvert_exporter": "python",
   "pygments_lexer": "ipython3",
   "version": "3.9.12"
  }
 },
 "nbformat": 4,
 "nbformat_minor": 5
}
