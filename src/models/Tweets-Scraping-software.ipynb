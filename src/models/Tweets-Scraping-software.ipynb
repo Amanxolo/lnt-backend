{
 "cells": [
  {
   "cell_type": "code",
   "execution_count": 1,
   "id": "4b573b4b",
   "metadata": {
    "execution": {
     "iopub.execute_input": "2024-03-20T14:04:30.405777Z",
     "iopub.status.busy": "2024-03-20T14:04:30.404770Z",
     "iopub.status.idle": "2024-03-20T14:04:30.976441Z",
     "shell.execute_reply": "2024-03-20T14:04:30.975410Z"
    }
   },
   "outputs": [],
   "source": [
    "import asyncio\n",
    "from twscrape import API, gather\n",
    "from twscrape.logger import set_log_level"
   ]
  },
  {
   "cell_type": "code",
   "execution_count": 2,
   "id": "5bdac690",
   "metadata": {
    "execution": {
     "iopub.execute_input": "2024-03-20T14:04:30.981421Z",
     "iopub.status.busy": "2024-03-20T14:04:30.980422Z",
     "iopub.status.idle": "2024-03-20T14:04:31.005618Z",
     "shell.execute_reply": "2024-03-20T14:04:31.004604Z"
    }
   },
   "outputs": [
    {
     "name": "stderr",
     "output_type": "stream",
     "text": [
      "\u001b[32m2024-03-20 19:34:30.995\u001b[0m | \u001b[33m\u001b[1mWARNING \u001b[0m | \u001b[36mtwscrape.accounts_pool\u001b[0m:\u001b[36madd_account\u001b[0m:\u001b[36m76\u001b[0m - \u001b[33m\u001b[1mAccount xolo_2003 already exists\u001b[0m\n"
     ]
    }
   ],
   "source": [
    "api = API()\n",
    "await api.pool.add_account(\"xolo_2003\", \"Narusasu@2003\", 'aman.tyagiofficial2003@gmail.com', \"Narusasu@2003\")"
   ]
  },
  {
   "cell_type": "code",
   "execution_count": 3,
   "id": "71b806ba",
   "metadata": {
    "execution": {
     "iopub.execute_input": "2024-03-20T14:04:31.010621Z",
     "iopub.status.busy": "2024-03-20T14:04:31.009630Z",
     "iopub.status.idle": "2024-03-20T14:04:31.028978Z",
     "shell.execute_reply": "2024-03-20T14:04:31.027968Z"
    }
   },
   "outputs": [
    {
     "data": {
      "text/plain": [
       "{'total': 0, 'success': 0, 'failed': 0}"
      ]
     },
     "execution_count": 3,
     "metadata": {},
     "output_type": "execute_result"
    }
   ],
   "source": [
    "await api.pool.login_all()"
   ]
  },
  {
   "cell_type": "code",
   "execution_count": 4,
   "id": "c3d4bcb0",
   "metadata": {
    "execution": {
     "iopub.execute_input": "2024-03-20T14:04:31.035130Z",
     "iopub.status.busy": "2024-03-20T14:04:31.034132Z",
     "iopub.status.idle": "2024-03-20T14:04:31.040714Z",
     "shell.execute_reply": "2024-03-20T14:04:31.039707Z"
    }
   },
   "outputs": [],
   "source": [
    "data = gather(api.search(\"larsentoubro\", limit=20))  # list[Tweet]"
   ]
  },
  {
   "cell_type": "code",
   "execution_count": 5,
   "id": "8e18c067",
   "metadata": {
    "execution": {
     "iopub.execute_input": "2024-03-20T14:04:31.043720Z",
     "iopub.status.busy": "2024-03-20T14:04:31.043720Z",
     "iopub.status.idle": "2024-03-20T14:04:31.052836Z",
     "shell.execute_reply": "2024-03-20T14:04:31.051829Z"
    }
   },
   "outputs": [
    {
     "name": "stdout",
     "output_type": "stream",
     "text": [
      "<coroutine object gather at 0x000001C0DCEE1FC0>\n"
     ]
    }
   ],
   "source": [
    "print(data)\n",
    "tweet_lst=[]"
   ]
  },
  {
   "cell_type": "code",
   "execution_count": 6,
   "id": "20018c8a",
   "metadata": {
    "execution": {
     "iopub.execute_input": "2024-03-20T14:04:31.056856Z",
     "iopub.status.busy": "2024-03-20T14:04:31.056856Z",
     "iopub.status.idle": "2024-03-20T14:04:33.961343Z",
     "shell.execute_reply": "2024-03-20T14:04:33.961343Z"
    }
   },
   "outputs": [
    {
     "name": "stdout",
     "output_type": "stream",
     "text": [
      "[1770408437127479783, 'larsentoubro', 'As #WorldWaterDay approaches, we take a look at how L&amp;T is helping transform #WaterInfrastructure in rural and urban areas of the Nation.\\xa0\\n\\n#TechnologyForSustainableGrowth https://t.co/OXW3dBaJTk']\n",
      "[1770400038675419445, 'pipelinejournal', 'Larsen &amp; Toubro Secures Major Onshore Gas Pipeline Project in the Middle East\\n\\nRead more ▶️ https://t.co/ObRU5qPz61\\n\\n@larsentoubro #pipelinejournal #pipelinenews #pipelineindustry #pipelines #MiddleEast #gas']\n",
      "[1770382788048609426, 'bhayalv', '@mybmc @CMOMaharashtra @Dev_Fadnavis @dvkesarkar @MPLodha Till now No Work has been started yet on this most wanted project... Further connecting to Vasai Virar... @CMOMaharashtra @mieknathshinde @Dev_Fadnavis @mybmc @MMRDAOfficial @larsentoubro']\n",
      "[1770297047658402241, 'ETNOWlive', 'JUST IN | L&amp;T Tech to train 1,000 engineers in 3 yrs on Nvidia AI software: Agencies\\n\\n@larsentoubro https://t.co/uUHC2uyodV']\n",
      "[1770255322437095505, 'Shiba11651', 'Jump Rope\\n\\nHealth Benefits:\\n- High calorie burning workout\\n- Helps with stress reduction\\n\\n58th Challenge on - 20th Mar 2024\\n@larsentoubro \\n@GOQii \\n@GOQiiLife \\n#GOQiiCorporateChallenge\\n\\n#skip #skipping #ropejumping #jumpropeworkout  #reeloftheday  #fitatfifty #fitatanyage https://t.co/n9l14Mhpls']\n",
      "[1770153372730970251, 'Kadaravali', '@reliancegroup @TataCompanies @AdaniOnline @TheJSWGroup @larsentoubro @AdityaBirlaGrp\\nwell the gauntlet is thrown, become immortal in India do something very decent to your country.']\n",
      "[1770092020083937645, 'Paul_Koshy', 'Dear #Ambani \\nListen to this https://t.co/L6CUAgY0An']\n",
      "[1770148862088315172, 'ankitmistry', \"Let's get healthier together. #GOQiiCorporateChallenge #BeTheForce @GOQiiLife @GOQii @larsentoubro #larsentoubro https://t.co/KRWz8kLhRX\"]\n",
      "[1770055118827974899, 'MyEconomicTimes', \"Is A.M. Naik a bully? Listen to what @larsentoubro's Chairman Emeritus has to say! He also talks about how he saved the company from two hostile takeovers. Tune in to #TheMorningBrief podcast hosted by @arijitbarman76!\\n\\nListen now:\\nhttps://t.co/4gjRtOFuRQ https://t.co/g4uRZZnWfN\"]\n",
      "[1770034993110085935, 'tech_feed2023', '1. Larsen &amp; Toubro Limited A giant in the construction and infrastructure industry, L&amp;T’s projects span various sectors, including roads, railways, and energy. Their innovation and scale make them a leader in the field. #LarsenToubro https://t.co/BtuY3Gi7rb']\n",
      "[1769975843181219997, 'EconomicTimes', \"Is #AMNaik a bully? Listen to what @larsentoubro's Chairman Emeritus has to say on this. He also talks about how he saved the company from two hostile takeovers. Listen to the latest episode of the #ETMorningBriefPodcast hosted by @arijitbarman76! https://t.co/8fzbz0AHnF https://t.co/2K8iChQ9tK\"]\n",
      "[1769970934402765045, 'Aura42185274', '@MunaPriyabdk @gemsofbabus_ @larsentoubro 😂😂']\n",
      "[1769946269072728086, 'MyEconomicTimes', \"A.M. Naik, @larsentoubro's Chairman Emeritus &amp; ET's lifetime achiever, is on #TheMorningBrief podcast. This maverick leader grew L&amp;T 36X &amp; fought off two takeover bids. Don't miss his inspiring story as he talks to @arijitbarman76!\\n\\n#business\\n\\nListen now:\\nhttps://t.co/4gjRtOFuRQ https://t.co/nX2kgn0tjf\"]\n",
      "[1769944947711758765, 'sumitmittal0711', \"@larsentoubro Please release my amount .It's already delay.\\nAmount is in due list . Please make payment. https://t.co/Ynt8XVQQWZ\"]\n",
      "[1769925061153349915, 'Shiba11651', 'Makhana\\n\\nHealth Benefits:\\n- Rich in plant based protein \\n- Helps with weight control\\n\\n57th Challenge on - 19th Mar 2024\\n@larsentoubro\\n@GOQii\\n@GOQiiLife\\n#GOQiiCorporateChallenge \\n\\n#makhana #plantprotein \\n#healthysnacks #HealthySnacking \\n#healthyeating https://t.co/8dP1wSbhuY']\n",
      "[1769917962020929588, 'EconomicTimes', \"#AMNaik, @larsentoubro 's Chairman Emeritus &amp; ET's lifetime achiever, is on the #ETMorningBriefPodcast. This maverick leader grew L&amp;T 36X &amp; fought off two takeover bids. Don't miss his inspiring story as he talks to @arijitbarman76! https://t.co/8fzbz0AHnF https://t.co/jjGwxJWwVk\"]\n",
      "[1769733346806956269, 'Shiba11651', 'Healthy Snacks\\nHealth Benefits:\\n- Boosts immune function \\n- Reduce the risk of chronic diseases\\n\\n56th Challenge on - 18th Mar 2024\\n@larsentoubro\\n@GOQii\\n@GOQiiLife\\n#GOQiiCorporateChallenge \\n\\n#healthysnacks #HealthySnacking \\n#healthyeating #healthymeals #homemadefood #fitnesstips https://t.co/zfF1EzkOb0']\n",
      "[1769713296595398757, 'TweetsFromArora', '#MumbaiMetro project is the slowest construction of this century. \\n\\n@MMRDAOfficial @Dev_Fadnavis @larsentoubro']\n",
      "[1769663715555651870, 'NDTVProfitHindi', 'अगले 5 साल में 15-25% CAGR रिटर्न दे सकते हैं ये शेयर\\n\\n#JSWEnergy #LarsenToubro #MacrotechDevelopers #MaxHealthcare https://t.co/DClFsP345J']\n",
      "[1769619190527197404, 'TheWealthelite', 'Top holdings of #Quant Flexi Cap Fund   #RelianceIndustries \\n#JioFinance \\n#Swanenergy \\n#HUDCO \\n#AdaniPower \\n#Larsentoubro \\n#Biocon \\n#britannia \\n#Hindalco \\n#LIC \\n#SAIL']\n",
      "[1769595008397738196, 'TheWealthelite', '#Jefferies’s 11 Stocks for the next 5 Years. \\n\\n#Amber #ambujacem  #AxisBank #BhartiAirtel \\n#JSWEnergy #LarsenToubro #Macrotech #MaxHealthcare #SBI #TVSMotors #Zomato https://t.co/N1OLPh3Qii']\n",
      "[1769581059166154813, 'mittalsunny22', 'Hi @AAPPunjab , @larsentoubro and @Puneet_banga_ \\n\\nI want to drag your attention to our street condition which is broken by L&amp;T for water pipes and they ran away in-between and the road condition is worst now. Even small insects and mosquitos started breeding. https://t.co/h3eQdbaM6r']\n",
      "[1769536664278274120, 'ETNOWlive', \"News Alert | Here's a quick look at the top takeaways from L&amp;T Finance's management meet at the Morgan Stanley Conference👇🏾\\n\\n@larsentoubro https://t.co/EYvCedP1AG\"]\n",
      "[1769411215720116308, 'PankajGorakhpur', 'Colorful vegetables salad\\n#GOQiiCorporateChallenge\\n@GOQii \\n@larsentoubro \\n#PANKAJ KUMAR\\n#L&amp;T https://t.co/p9cWqWb3yj']\n",
      "[1769388461763477599, 'Truely_desi05', '@larsentoubro @nitin_gadkari Today, IT employees earning 4-10lac per year with 0-5 yrs of experience.\\nBut if civil work companies create career path, where they can reward 10-30 lac for same duration of experience!\\nI am sure, Naukri dot com will be slapped with thousands of application for such Jobs!']\n",
      "[1769388019717451939, 'Truely_desi05', '@larsentoubro @nitin_gadkari If security guard in mall and bank can earn 25k in AC work place, why he will choose job to do hardwork.']\n"
     ]
    }
   ],
   "source": [
    "async for tweet in api.search(\"larsentoubro\",limit=50):\n",
    "        tweet_lst.append([tweet.id, tweet.user.username, tweet.rawContent]) \n",
    "        print([tweet.id, tweet.user.username, tweet.rawContent]) "
   ]
  },
  {
   "cell_type": "code",
   "execution_count": 7,
   "id": "5bbcbb60",
   "metadata": {
    "execution": {
     "iopub.execute_input": "2024-03-20T14:04:33.967353Z",
     "iopub.status.busy": "2024-03-20T14:04:33.967353Z",
     "iopub.status.idle": "2024-03-20T14:04:33.975091Z",
     "shell.execute_reply": "2024-03-20T14:04:33.973518Z"
    }
   },
   "outputs": [],
   "source": [
    "import pickle\n",
    "pickle.dump(tweet_lst,open('./l&t_tweets_scraped','wb'))"
   ]
  },
  {
   "cell_type": "code",
   "execution_count": null,
   "id": "72101c14",
   "metadata": {},
   "outputs": [],
   "source": []
  },
  {
   "cell_type": "code",
   "execution_count": null,
   "id": "0ca374b1",
   "metadata": {},
   "outputs": [],
   "source": []
  },
  {
   "cell_type": "code",
   "execution_count": null,
   "id": "3f04c497",
   "metadata": {},
   "outputs": [],
   "source": [
    "\n"
   ]
  }
 ],
 "metadata": {
  "kernelspec": {
   "display_name": "py3.9",
   "language": "python",
   "name": "py3.9"
  },
  "language_info": {
   "codemirror_mode": {
    "name": "ipython",
    "version": 3
   },
   "file_extension": ".py",
   "mimetype": "text/x-python",
   "name": "python",
   "nbconvert_exporter": "python",
   "pygments_lexer": "ipython3",
   "version": "3.12.2"
  }
 },
 "nbformat": 4,
 "nbformat_minor": 5
}
